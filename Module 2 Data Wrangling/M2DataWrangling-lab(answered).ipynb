{
 "cells": [
  {
   "cell_type": "markdown",
   "metadata": {},
   "source": [
    "<p style=\"text-align:center\">\n",
    "    <a href=\"https://skills.network/?utm_medium=Exinfluencer&utm_source=Exinfluencer&utm_content=000026UJ&utm_term=10006555&utm_id=NA-SkillsNetwork-Channel-SkillsNetworkCoursesIBMDA0321ENSkillsNetwork928-2022-01-01\" target=\"_blank\">\n",
    "    <img src=\"https://cf-courses-data.s3.us.cloud-object-storage.appdomain.cloud/assets/logos/SN_web_lightmode.png\" width=\"200\" alt=\"Skills Network Logo\"  />\n",
    "    </a>\n",
    "</p>\n"
   ]
  },
  {
   "cell_type": "markdown",
   "metadata": {},
   "source": [
    "# **Data Wrangling Lab**\n"
   ]
  },
  {
   "cell_type": "markdown",
   "metadata": {},
   "source": [
    "Estimated time needed: **45 to 60** minutes\n"
   ]
  },
  {
   "cell_type": "markdown",
   "metadata": {},
   "source": [
    "In this assignment you will be performing data wrangling.\n"
   ]
  },
  {
   "cell_type": "markdown",
   "metadata": {},
   "source": [
    "## Objectives\n"
   ]
  },
  {
   "cell_type": "markdown",
   "metadata": {},
   "source": [
    "In this lab you will perform the following:\n"
   ]
  },
  {
   "cell_type": "markdown",
   "metadata": {},
   "source": [
    "-   Identify duplicate values in the dataset.\n",
    "\n",
    "-   Remove duplicate values from the dataset.\n",
    "\n",
    "-   Identify missing values in the dataset.\n",
    "\n",
    "-   Impute the missing values in the dataset.\n",
    "\n",
    "-   Normalize data in the dataset.\n"
   ]
  },
  {
   "cell_type": "markdown",
   "metadata": {},
   "source": [
    "<hr>\n"
   ]
  },
  {
   "cell_type": "markdown",
   "metadata": {},
   "source": [
    "## Hands on Lab\n"
   ]
  },
  {
   "cell_type": "markdown",
   "metadata": {},
   "source": [
    "Import pandas module.\n"
   ]
  },
  {
   "cell_type": "code",
   "execution_count": 1,
   "metadata": {},
   "outputs": [],
   "source": [
    "import pandas as pd"
   ]
  },
  {
   "cell_type": "markdown",
   "metadata": {},
   "source": [
    "Load the dataset into a dataframe.\n"
   ]
  },
  {
   "cell_type": "code",
   "execution_count": 2,
   "metadata": {},
   "outputs": [],
   "source": [
    "df = pd.read_csv(\"https://cf-courses-data.s3.us.cloud-object-storage.appdomain.cloud/IBM-DA0321EN-SkillsNetwork/LargeData/m1_survey_data.csv\")"
   ]
  },
  {
   "cell_type": "markdown",
   "metadata": {},
   "source": [
    "## Finding duplicates\n"
   ]
  },
  {
   "cell_type": "markdown",
   "metadata": {},
   "source": [
    "In this section you will identify duplicate values in the dataset.\n"
   ]
  },
  {
   "cell_type": "markdown",
   "metadata": {},
   "source": [
    " Find how many duplicate rows exist in the dataframe.\n"
   ]
  },
  {
   "cell_type": "code",
   "execution_count": 4,
   "metadata": {},
   "outputs": [
    {
     "data": {
      "text/plain": [
       "154"
      ]
     },
     "execution_count": 4,
     "metadata": {},
     "output_type": "execute_result"
    }
   ],
   "source": [
    "# your code goes here\n",
    "duplicate_rows = df[df.duplicated()]\n",
    "\n",
    "len(duplicate_rows)\n"
   ]
  },
  {
   "cell_type": "markdown",
   "metadata": {},
   "source": [
    "## Removing duplicates\n"
   ]
  },
  {
   "cell_type": "markdown",
   "metadata": {},
   "source": [
    "Remove the duplicate rows from the dataframe.\n"
   ]
  },
  {
   "cell_type": "code",
   "execution_count": 7,
   "metadata": {},
   "outputs": [],
   "source": [
    "# your code goes here\n",
    "# Drop duplicate rows\n",
    "df = df.drop_duplicates()\n"
   ]
  },
  {
   "cell_type": "markdown",
   "metadata": {},
   "source": [
    "Verify if duplicates were actually dropped.\n"
   ]
  },
  {
   "cell_type": "code",
   "execution_count": 8,
   "metadata": {},
   "outputs": [
    {
     "data": {
      "text/plain": [
       "0"
      ]
     },
     "execution_count": 8,
     "metadata": {},
     "output_type": "execute_result"
    }
   ],
   "source": [
    "duplicate_rows = df[df.duplicated()]\n",
    "\n",
    "len(duplicate_rows)"
   ]
  },
  {
   "cell_type": "markdown",
   "metadata": {},
   "source": [
    "## Finding Missing values\n"
   ]
  },
  {
   "cell_type": "markdown",
   "metadata": {},
   "source": [
    "Find the missing values for all columns.\n"
   ]
  },
  {
   "cell_type": "code",
   "execution_count": 59,
   "metadata": {},
   "outputs": [
    {
     "name": "stdout",
     "output_type": "stream",
     "text": [
      "Respondent\n",
      "Respondent\n",
      "False    11398\n",
      "Name: count, dtype: int64\n",
      "\n",
      "Respondent\n",
      "MainBranch\n",
      "False    11398\n",
      "Name: count, dtype: int64\n",
      "\n",
      "Respondent\n",
      "Hobbyist\n",
      "False    11398\n",
      "Name: count, dtype: int64\n",
      "\n",
      "Respondent\n",
      "OpenSourcer\n",
      "False    11398\n",
      "Name: count, dtype: int64\n",
      "\n",
      "Respondent\n",
      "OpenSource\n",
      "False    11317\n",
      "True        81\n",
      "Name: count, dtype: int64\n",
      "\n",
      "Respondent\n",
      "Employment\n",
      "False    11398\n",
      "Name: count, dtype: int64\n",
      "\n",
      "Respondent\n",
      "Country\n",
      "False    11398\n",
      "Name: count, dtype: int64\n",
      "\n",
      "Respondent\n",
      "Student\n",
      "False    11347\n",
      "True        51\n",
      "Name: count, dtype: int64\n",
      "\n",
      "Respondent\n",
      "EdLevel\n",
      "False    11286\n",
      "True       112\n",
      "Name: count, dtype: int64\n",
      "\n",
      "Respondent\n",
      "UndergradMajor\n",
      "False    10661\n",
      "True       737\n",
      "Name: count, dtype: int64\n",
      "\n",
      "Respondent\n",
      "EduOther\n",
      "False    11234\n",
      "True       164\n",
      "Name: count, dtype: int64\n",
      "\n",
      "Respondent\n",
      "OrgSize\n",
      "False    11302\n",
      "True        96\n",
      "Name: count, dtype: int64\n",
      "\n",
      "Respondent\n",
      "DevType\n",
      "False    11333\n",
      "True        65\n",
      "Name: count, dtype: int64\n",
      "\n",
      "Respondent\n",
      "YearsCode\n",
      "False    11389\n",
      "True         9\n",
      "Name: count, dtype: int64\n",
      "\n",
      "Respondent\n",
      "Age1stCode\n",
      "False    11385\n",
      "True        13\n",
      "Name: count, dtype: int64\n",
      "\n",
      "Respondent\n",
      "YearsCodePro\n",
      "False    11382\n",
      "True        16\n",
      "Name: count, dtype: int64\n",
      "\n",
      "Respondent\n",
      "CareerSat\n",
      "False    11398\n",
      "Name: count, dtype: int64\n",
      "\n",
      "Respondent\n",
      "JobSat\n",
      "False    11397\n",
      "True         1\n",
      "Name: count, dtype: int64\n",
      "\n",
      "Respondent\n",
      "MgrIdiot\n",
      "False    10905\n",
      "True       493\n",
      "Name: count, dtype: int64\n",
      "\n",
      "Respondent\n",
      "MgrMoney\n",
      "False    10901\n",
      "True       497\n",
      "Name: count, dtype: int64\n",
      "\n",
      "Respondent\n",
      "MgrWant\n",
      "False    10905\n",
      "True       493\n",
      "Name: count, dtype: int64\n",
      "\n",
      "Respondent\n",
      "JobSeek\n",
      "False    11398\n",
      "Name: count, dtype: int64\n",
      "\n",
      "Respondent\n",
      "LastHireDate\n",
      "False    11398\n",
      "Name: count, dtype: int64\n",
      "\n",
      "Respondent\n",
      "LastInt\n",
      "False    10985\n",
      "True       413\n",
      "Name: count, dtype: int64\n",
      "\n",
      "Respondent\n",
      "FizzBuzz\n",
      "False    11361\n",
      "True        37\n",
      "Name: count, dtype: int64\n",
      "\n",
      "Respondent\n",
      "JobFactors\n",
      "False    11395\n",
      "True         3\n",
      "Name: count, dtype: int64\n",
      "\n",
      "Respondent\n",
      "ResumeUpdate\n",
      "False    11359\n",
      "True        39\n",
      "Name: count, dtype: int64\n",
      "\n",
      "Respondent\n",
      "CurrencySymbol\n",
      "False    11398\n",
      "Name: count, dtype: int64\n",
      "\n",
      "Respondent\n",
      "CurrencyDesc\n",
      "False    11398\n",
      "Name: count, dtype: int64\n",
      "\n",
      "Respondent\n",
      "CompTotal\n",
      "False    10589\n",
      "True       809\n",
      "Name: count, dtype: int64\n",
      "\n",
      "Respondent\n",
      "CompFreq\n",
      "False    11192\n",
      "True       206\n",
      "Name: count, dtype: int64\n",
      "\n",
      "Respondent\n",
      "ConvertedComp\n",
      "False    10582\n",
      "True       816\n",
      "Name: count, dtype: int64\n",
      "\n",
      "Respondent\n",
      "WorkWeekHrs\n",
      "False    11276\n",
      "True       122\n",
      "Name: count, dtype: int64\n",
      "\n",
      "Respondent\n",
      "WorkPlan\n",
      "False    11277\n",
      "True       121\n",
      "Name: count, dtype: int64\n",
      "\n",
      "Respondent\n",
      "WorkChallenge\n",
      "False    11234\n",
      "True       164\n",
      "Name: count, dtype: int64\n",
      "\n",
      "Respondent\n",
      "WorkRemote\n",
      "False    11390\n",
      "True         8\n",
      "Name: count, dtype: int64\n",
      "\n",
      "Respondent\n",
      "WorkLoc\n",
      "False    11398\n",
      "Name: count, dtype: int64\n",
      "\n",
      "Respondent\n",
      "ImpSyn\n",
      "False    11393\n",
      "True         5\n",
      "Name: count, dtype: int64\n",
      "\n",
      "Respondent\n",
      "CodeRev\n",
      "False    11397\n",
      "True         1\n",
      "Name: count, dtype: int64\n",
      "\n",
      "Respondent\n",
      "CodeRevHrs\n",
      "False    8972\n",
      "True     2426\n",
      "Name: count, dtype: int64\n",
      "\n",
      "Respondent\n",
      "UnitTests\n",
      "False    11369\n",
      "True        29\n",
      "Name: count, dtype: int64\n",
      "\n",
      "Respondent\n",
      "PurchaseHow\n",
      "False    11202\n",
      "True       196\n",
      "Name: count, dtype: int64\n",
      "\n",
      "Respondent\n",
      "PurchaseWhat\n",
      "False    11360\n",
      "True        38\n",
      "Name: count, dtype: int64\n",
      "\n",
      "Respondent\n",
      "LanguageWorkedWith\n",
      "False    11387\n",
      "True        11\n",
      "Name: count, dtype: int64\n",
      "\n",
      "Respondent\n",
      "LanguageDesireNextYear\n",
      "False    11264\n",
      "True       134\n",
      "Name: count, dtype: int64\n",
      "\n",
      "Respondent\n",
      "DatabaseWorkedWith\n",
      "False    10945\n",
      "True       453\n",
      "Name: count, dtype: int64\n",
      "\n",
      "Respondent\n",
      "DatabaseDesireNextYear\n",
      "False    10356\n",
      "True      1042\n",
      "Name: count, dtype: int64\n",
      "\n",
      "Respondent\n",
      "PlatformWorkedWith\n",
      "False    10987\n",
      "True       411\n",
      "Name: count, dtype: int64\n",
      "\n",
      "Respondent\n",
      "PlatformDesireNextYear\n",
      "False    10854\n",
      "True       544\n",
      "Name: count, dtype: int64\n",
      "\n",
      "Respondent\n",
      "WebFrameWorkedWith\n",
      "False    10005\n",
      "True      1393\n",
      "Name: count, dtype: int64\n",
      "\n",
      "Respondent\n",
      "WebFrameDesireNextYear\n",
      "False    9781\n",
      "True     1617\n",
      "Name: count, dtype: int64\n",
      "\n",
      "Respondent\n",
      "MiscTechWorkedWith\n",
      "False    9216\n",
      "True     2182\n",
      "Name: count, dtype: int64\n",
      "\n",
      "Respondent\n",
      "MiscTechDesireNextYear\n",
      "False    9943\n",
      "True     1455\n",
      "Name: count, dtype: int64\n",
      "\n",
      "Respondent\n",
      "DevEnviron\n",
      "False    11369\n",
      "True        29\n",
      "Name: count, dtype: int64\n",
      "\n",
      "Respondent\n",
      "OpSys\n",
      "False    11364\n",
      "True        34\n",
      "Name: count, dtype: int64\n",
      "\n",
      "Respondent\n",
      "Containers\n",
      "False    11316\n",
      "True        82\n",
      "Name: count, dtype: int64\n",
      "\n",
      "Respondent\n",
      "BlockchainOrg\n",
      "False    9076\n",
      "True     2322\n",
      "Name: count, dtype: int64\n",
      "\n",
      "Respondent\n",
      "BlockchainIs\n",
      "False    8788\n",
      "True     2610\n",
      "Name: count, dtype: int64\n",
      "\n",
      "Respondent\n",
      "BetterLife\n",
      "False    11300\n",
      "True        98\n",
      "Name: count, dtype: int64\n",
      "\n",
      "Respondent\n",
      "ITperson\n",
      "False    11363\n",
      "True        35\n",
      "Name: count, dtype: int64\n",
      "\n",
      "Respondent\n",
      "OffOn\n",
      "False    11360\n",
      "True        38\n",
      "Name: count, dtype: int64\n",
      "\n",
      "Respondent\n",
      "SocialMedia\n",
      "False    11105\n",
      "True       293\n",
      "Name: count, dtype: int64\n",
      "\n",
      "Respondent\n",
      "Extraversion\n",
      "False    11378\n",
      "True        20\n",
      "Name: count, dtype: int64\n",
      "\n",
      "Respondent\n",
      "ScreenName\n",
      "False    10891\n",
      "True       507\n",
      "Name: count, dtype: int64\n",
      "\n",
      "Respondent\n",
      "SOVisit1st\n",
      "False    11073\n",
      "True       325\n",
      "Name: count, dtype: int64\n",
      "\n",
      "Respondent\n",
      "SOVisitFreq\n",
      "False    11393\n",
      "True         5\n",
      "Name: count, dtype: int64\n",
      "\n",
      "Respondent\n",
      "SOVisitTo\n",
      "False    11397\n",
      "True         1\n",
      "Name: count, dtype: int64\n",
      "\n",
      "Respondent\n",
      "SOFindAnswer\n",
      "False    11395\n",
      "True         3\n",
      "Name: count, dtype: int64\n",
      "\n",
      "Respondent\n",
      "SOTimeSaved\n",
      "False    11348\n",
      "True        50\n",
      "Name: count, dtype: int64\n",
      "\n",
      "Respondent\n",
      "SOHowMuchTime\n",
      "False    9481\n",
      "True     1917\n",
      "Name: count, dtype: int64\n",
      "\n",
      "Respondent\n",
      "SOAccount\n",
      "False    11397\n",
      "True         1\n",
      "Name: count, dtype: int64\n",
      "\n",
      "Respondent\n",
      "SOPartFreq\n",
      "False    10270\n",
      "True      1128\n",
      "Name: count, dtype: int64\n",
      "\n",
      "Respondent\n",
      "SOJobs\n",
      "False    11392\n",
      "True         6\n",
      "Name: count, dtype: int64\n",
      "\n",
      "Respondent\n",
      "EntTeams\n",
      "False    11393\n",
      "True         5\n",
      "Name: count, dtype: int64\n",
      "\n",
      "Respondent\n",
      "SOComm\n",
      "False    11398\n",
      "Name: count, dtype: int64\n",
      "\n",
      "Respondent\n",
      "WelcomeChange\n",
      "False    11313\n",
      "True        85\n",
      "Name: count, dtype: int64\n",
      "\n",
      "Respondent\n",
      "SONewContent\n",
      "False    9433\n",
      "True     1965\n",
      "Name: count, dtype: int64\n",
      "\n",
      "Respondent\n",
      "Age\n",
      "False    11111\n",
      "True       287\n",
      "Name: count, dtype: int64\n",
      "\n",
      "Respondent\n",
      "Gender\n",
      "False    11325\n",
      "True        73\n",
      "Name: count, dtype: int64\n",
      "\n",
      "Respondent\n",
      "Trans\n",
      "False    11275\n",
      "True       123\n",
      "Name: count, dtype: int64\n",
      "\n",
      "Respondent\n",
      "Sexuality\n",
      "False    10856\n",
      "True       542\n",
      "Name: count, dtype: int64\n",
      "\n",
      "Respondent\n",
      "Ethnicity\n",
      "False    10723\n",
      "True       675\n",
      "Name: count, dtype: int64\n",
      "\n",
      "Respondent\n",
      "Dependents\n",
      "False    11258\n",
      "True       140\n",
      "Name: count, dtype: int64\n",
      "\n",
      "Respondent\n",
      "SurveyLength\n",
      "False    11379\n",
      "True        19\n",
      "Name: count, dtype: int64\n",
      "\n",
      "Respondent\n",
      "SurveyEase\n",
      "False    11384\n",
      "True        14\n",
      "Name: count, dtype: int64\n",
      "\n",
      "Respondent\n",
      "NormalizedAnnualCompensation\n",
      "False    10789\n",
      "True       609\n",
      "Name: count, dtype: int64\n",
      "\n"
     ]
    }
   ],
   "source": [
    "# Find rows with missing values\n",
    "missing_data = df.isnull()\n",
    "\n",
    "for column in missing_data.columns.values.tolist():\n",
    "    print(col)\n",
    "    print(missing_data[column].value_counts())\n",
    "    print(\"\")\n"
   ]
  },
  {
   "cell_type": "markdown",
   "metadata": {},
   "source": [
    "Find out how many rows are missing in the column 'WorkLoc'\n"
   ]
  },
  {
   "cell_type": "code",
   "execution_count": 38,
   "metadata": {},
   "outputs": [
    {
     "data": {
      "text/plain": [
       "32"
      ]
     },
     "execution_count": 38,
     "metadata": {},
     "output_type": "execute_result"
    }
   ],
   "source": [
    "# your code goes here\n",
    "\n",
    "df['WorkLoc'].isnull().sum()"
   ]
  },
  {
   "cell_type": "markdown",
   "metadata": {},
   "source": [
    "## Imputing missing values\n"
   ]
  },
  {
   "cell_type": "markdown",
   "metadata": {},
   "source": [
    "Find the  value counts for the column WorkLoc.\n"
   ]
  },
  {
   "cell_type": "code",
   "execution_count": 46,
   "metadata": {},
   "outputs": [
    {
     "data": {
      "text/plain": [
       "11398"
      ]
     },
     "execution_count": 46,
     "metadata": {},
     "output_type": "execute_result"
    }
   ],
   "source": [
    "len(df['WorkLoc'])"
   ]
  },
  {
   "cell_type": "markdown",
   "metadata": {},
   "source": [
    "Identify the value that is most frequent (majority) in the WorkLoc column.\n"
   ]
  },
  {
   "cell_type": "code",
   "execution_count": 47,
   "metadata": {},
   "outputs": [
    {
     "data": {
      "text/plain": [
       "'Office'"
      ]
     },
     "execution_count": 47,
     "metadata": {},
     "output_type": "execute_result"
    }
   ],
   "source": [
    "#make a note of the majority value here, for future reference\n",
    "df['WorkLoc'].mode()[0]"
   ]
  },
  {
   "cell_type": "markdown",
   "metadata": {},
   "source": [
    "Impute (replace) all the empty rows in the column WorkLoc with the value that you have identified as majority.\n"
   ]
  },
  {
   "cell_type": "code",
   "execution_count": 48,
   "metadata": {},
   "outputs": [],
   "source": [
    "# your code goes here\n",
    "Mode = df['WorkLoc'].mode()[0]\n",
    "df['WorkLoc'].fillna( Mode,inplace = True)"
   ]
  },
  {
   "cell_type": "markdown",
   "metadata": {},
   "source": [
    "After imputation there should ideally not be any empty rows in the WorkLoc column.\n"
   ]
  },
  {
   "cell_type": "markdown",
   "metadata": {},
   "source": [
    "Verify if imputing was successful.\n"
   ]
  },
  {
   "cell_type": "code",
   "execution_count": 49,
   "metadata": {},
   "outputs": [
    {
     "data": {
      "text/plain": [
       "0"
      ]
     },
     "execution_count": 49,
     "metadata": {},
     "output_type": "execute_result"
    }
   ],
   "source": [
    "# your code goes here\n",
    "df['WorkLoc'].isnull().sum()"
   ]
  },
  {
   "cell_type": "markdown",
   "metadata": {},
   "source": [
    "## Normalizing data\n"
   ]
  },
  {
   "cell_type": "markdown",
   "metadata": {},
   "source": [
    "There are two columns in the dataset that talk about compensation.\n",
    "\n",
    "One is \"CompFreq\". This column shows how often a developer is paid (Yearly, Monthly, Weekly).\n",
    "\n",
    "The other is \"CompTotal\". This column talks about how much the developer is paid per Year, Month, or Week depending upon his/her \"CompFreq\". \n",
    "\n",
    "This makes it difficult to compare the total compensation of the developers.\n",
    "\n",
    "In this section you will create a new column called 'NormalizedAnnualCompensation' which contains the 'Annual Compensation' irrespective of the 'CompFreq'.\n",
    "\n",
    "Once this column is ready, it makes comparison of salaries easy.\n"
   ]
  },
  {
   "cell_type": "markdown",
   "metadata": {},
   "source": [
    "<hr>\n"
   ]
  },
  {
   "cell_type": "markdown",
   "metadata": {},
   "source": [
    "List out the various categories in the column 'CompFreq'\n"
   ]
  },
  {
   "cell_type": "code",
   "execution_count": 50,
   "metadata": {},
   "outputs": [
    {
     "data": {
      "text/plain": [
       "array(['Yearly', 'Monthly', 'Weekly', nan], dtype=object)"
      ]
     },
     "execution_count": 50,
     "metadata": {},
     "output_type": "execute_result"
    }
   ],
   "source": [
    "# your code goes here\n",
    "df['CompFreq'].unique()"
   ]
  },
  {
   "cell_type": "markdown",
   "metadata": {},
   "source": [
    "Create a new column named 'NormalizedAnnualCompensation'. Use the hint given below if needed.\n"
   ]
  },
  {
   "cell_type": "markdown",
   "metadata": {},
   "source": [
    "Double click to see the **Hint**.\n",
    "\n",
    "<!--\n",
    "\n",
    "Use the below logic to arrive at the values for the column NormalizedAnnualCompensation.\n",
    "\n",
    "If the CompFreq is Yearly then use the exising value in CompTotal\n",
    "If the CompFreq is Monthly then multiply the value in CompTotal with 12 (months in an year)\n",
    "If the CompFreq is Weekly then multiply the value in CompTotal with 52 (weeks in an year)\n",
    "\n",
    "-->\n"
   ]
  },
  {
   "cell_type": "code",
   "execution_count": 55,
   "metadata": {},
   "outputs": [
    {
     "data": {
      "text/plain": [
       "0         61000.0\n",
       "1        138000.0\n",
       "2         90000.0\n",
       "3        348000.0\n",
       "4         90000.0\n",
       "           ...   \n",
       "11547    130000.0\n",
       "11548     74400.0\n",
       "11549    105000.0\n",
       "11550     80000.0\n",
       "11551         0.0\n",
       "Name: NormalizedAnnualCompensation, Length: 11398, dtype: float64"
      ]
     },
     "execution_count": 55,
     "metadata": {},
     "output_type": "execute_result"
    }
   ],
   "source": [
    "# your code goes here\n",
    "# Create 'NormalizedAnnualCompensation' column\n",
    "df['NormalizedAnnualCompensation'] = 0\n",
    "\n",
    "# Calculate normalized compensation based on 'CompFreq'\n",
    "df.loc[df['CompFreq'] == 'Weekly', 'NormalizedAnnualCompensation'] = df['CompTotal']*52\n",
    "df.loc[df['CompFreq'] == 'Monthly', 'NormalizedAnnualCompensation'] = df['CompTotal']*12\n",
    "df.loc[df['CompFreq'] == 'Yearly', 'NormalizedAnnualCompensation'] = df['CompTotal']*1\n",
    "\n",
    "df['NormalizedAnnualCompensation']\n"
   ]
  },
  {
   "cell_type": "code",
   "execution_count": 60,
   "metadata": {},
   "outputs": [
    {
     "data": {
      "text/plain": [
       "98000.0"
      ]
     },
     "execution_count": 60,
     "metadata": {},
     "output_type": "execute_result"
    }
   ],
   "source": [
    "df['NormalizedAnnualCompensation'].median()"
   ]
  },
  {
   "cell_type": "markdown",
   "metadata": {},
   "source": [
    "## Authors\n"
   ]
  },
  {
   "cell_type": "markdown",
   "metadata": {},
   "source": [
    "Ramesh Sannareddy\n"
   ]
  },
  {
   "cell_type": "markdown",
   "metadata": {},
   "source": [
    "### Other Contributors\n"
   ]
  },
  {
   "cell_type": "markdown",
   "metadata": {},
   "source": [
    "Rav Ahuja\n"
   ]
  },
  {
   "cell_type": "markdown",
   "metadata": {},
   "source": [
    "## Change Log\n"
   ]
  },
  {
   "cell_type": "markdown",
   "metadata": {},
   "source": [
    "| Date (YYYY-MM-DD) | Version | Changed By        | Change Description                 |\n",
    "| ----------------- | ------- | ----------------- | ---------------------------------- |\n",
    "| 2020-10-17        | 0.1     | Ramesh Sannareddy | Created initial version of the lab |\n"
   ]
  },
  {
   "cell_type": "markdown",
   "metadata": {},
   "source": [
    " Copyright © 2020 IBM Corporation. This notebook and its source code are released under the terms of the [MIT License](https://cognitiveclass.ai/mit-license?utm_medium=Exinfluencer&utm_source=Exinfluencer&utm_content=000026UJ&utm_term=10006555&utm_id=NA-SkillsNetwork-Channel-SkillsNetworkCoursesIBMDA0321ENSkillsNetwork928-2022-01-01&cm_mmc=Email_Newsletter-_-Developer_Ed%2BTech-_-WW_WW-_-SkillsNetwork-Courses-IBM-DA0321EN-SkillsNetwork-21426264&cm_mmca1=000026UJ&cm_mmca2=10006555&cm_mmca3=M12345678&cvosrc=email.Newsletter.M12345678&cvo_campaign=000026UJ).\n"
   ]
  }
 ],
 "metadata": {
  "kernelspec": {
   "display_name": "Python 3 (ipykernel)",
   "language": "python",
   "name": "python3"
  },
  "language_info": {
   "codemirror_mode": {
    "name": "ipython",
    "version": 3
   },
   "file_extension": ".py",
   "mimetype": "text/x-python",
   "name": "python",
   "nbconvert_exporter": "python",
   "pygments_lexer": "ipython3",
   "version": "3.11.4"
  }
 },
 "nbformat": 4,
 "nbformat_minor": 4
}
